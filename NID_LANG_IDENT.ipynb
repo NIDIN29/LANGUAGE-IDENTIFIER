{
  "nbformat": 4,
  "nbformat_minor": 0,
  "metadata": {
    "colab": {
      "provenance": [],
      "authorship_tag": "ABX9TyMrYtm2+bAixmm2sL8QIFwE",
      "include_colab_link": true
    },
    "kernelspec": {
      "name": "python3",
      "display_name": "Python 3"
    },
    "language_info": {
      "name": "python"
    }
  },
  "cells": [
    {
      "cell_type": "markdown",
      "metadata": {
        "id": "view-in-github",
        "colab_type": "text"
      },
      "source": [
        "<a href=\"https://colab.research.google.com/github/NIDIN29/LANGUAGE-IDENTIFIER/blob/main/NID_LANG_IDENT.ipynb\" target=\"_parent\"><img src=\"https://colab.research.google.com/assets/colab-badge.svg\" alt=\"Open In Colab\"/></a>"
      ]
    },
    {
      "cell_type": "code",
      "execution_count": null,
      "metadata": {
        "colab": {
          "base_uri": "https://localhost:8080/"
        },
        "id": "7STuM4r-JKFm",
        "outputId": "e3b2f8a7-d0aa-4add-e89d-0778816e2aa2"
      },
      "outputs": [
        {
          "output_type": "stream",
          "name": "stderr",
          "text": [
            "Device set to use cpu\n"
          ]
        },
        {
          "output_type": "stream",
          "name": "stdout",
          "text": [
            "Text: Hello, how are you?\n",
            "Detected Language: en\n",
            "\n",
            "Text: Hola, ¿cómo estás?\n",
            "Detected Language: es\n",
            "\n",
            "Text: Bonjour, comment ça va ?\n",
            "Detected Language: fr\n",
            "\n",
            "Text: Hallo, wie geht's?\n",
            "Detected Language: de\n",
            "\n",
            "Text: Ciao, come stai?\n",
            "Detected Language: it\n",
            "\n",
            "Text: नमस्ते, आप कैसे हैं?\n",
            "Detected Language: hi\n",
            "\n",
            "Text: こんにちは、お元気ですか？\n",
            "Detected Language: ja\n",
            "\n"
          ]
        }
      ],
      "source": [
        "#This project demonstrates how to build a simple language detection system using pre-trained models from the Hugging Face Transformers library.\n",
        "#The model used in this project, papluca/xlm-roberta-base-language-detection, is a fine-tuned version of the XLM-RoBERTa model, designed specifically for detecting the language of input text.\n",
        "\n",
        "from transformers import pipeline\n",
        "\n",
        "# Initialize the language detection model pipeline using Hugging Face's transformers\n",
        "lang_detector = pipeline(\"text-classification\", model=\"papluca/xlm-roberta-base-language-detection\")\n",
        "\n",
        "def identify_language(text):\n",
        "    try:\n",
        "        # Use the model to predict the language of the text\n",
        "        result = lang_detector(text)\n",
        "        language = result[0]['label']\n",
        "        return language\n",
        "    except Exception as e:\n",
        "        return str(e)\n",
        "\n",
        "# Test the function\n",
        "if __name__ == \"__main__\":\n",
        "    # Sample texts in different languages\n",
        "    sample_texts = [\n",
        "        \"Hello, how are you?\",  # English\n",
        "        \"Hola, ¿cómo estás?\",   # Spanish\n",
        "        \"Bonjour, comment ça va ?\",  # French\n",
        "        \"Hallo, wie geht's?\",  # German\n",
        "        \"Ciao, come stai?\",    # Italian\n",
        "        \"नमस्ते, आप कैसे हैं?\",  # Hindi\n",
        "        \"こんにちは、お元気ですか？\"  # Japanese\n",
        "    ]\n",
        "\n",
        "    for text in sample_texts:\n",
        "        language = identify_language(text)\n",
        "        print(f\"Text: {text}\\nDetected Language: {language}\\n\")\n"
      ]
    }
  ]
}